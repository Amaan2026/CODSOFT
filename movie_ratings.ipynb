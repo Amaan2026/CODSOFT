{
 "cells": [
  {
   "cell_type": "markdown",
   "id": "86635986-37ae-439c-abde-636bd97f4b1b",
   "metadata": {},
   "source": [
    "DATA LOADING"
   ]
  },
  {
   "cell_type": "code",
   "execution_count": 24,
   "id": "f7d4a1c2-3d0b-4c1a-a28d-d82518c7da23",
   "metadata": {},
   "outputs": [],
   "source": [
    "import numpy as np\n",
    "import pandas as pd\n",
    "import matplotlib.pyplot as plt\n",
    "import seaborn as sns"
   ]
  },
  {
   "cell_type": "code",
   "execution_count": 25,
   "id": "e5973d1b-ed60-4b88-ac6a-b0be4803ee1f",
   "metadata": {},
   "outputs": [
    {
     "name": "stdout",
     "output_type": "stream",
     "text": [
      "(15509, 10)\n",
      "<class 'pandas.core.frame.DataFrame'>\n",
      "RangeIndex: 15509 entries, 0 to 15508\n",
      "Data columns (total 10 columns):\n",
      " #   Column    Non-Null Count  Dtype  \n",
      "---  ------    --------------  -----  \n",
      " 0   Name      15509 non-null  object \n",
      " 1   Year      14981 non-null  object \n",
      " 2   Duration  7240 non-null   object \n",
      " 3   Genre     13632 non-null  object \n",
      " 4   Rating    7919 non-null   float64\n",
      " 5   Votes     7920 non-null   object \n",
      " 6   Director  14984 non-null  object \n",
      " 7   Actor 1   13892 non-null  object \n",
      " 8   Actor 2   13125 non-null  object \n",
      " 9   Actor 3   12365 non-null  object \n",
      "dtypes: float64(1), object(9)\n",
      "memory usage: 1.2+ MB\n",
      "None\n"
     ]
    }
   ],
   "source": [
    "dataset = pd.read_csv('movie_rating.csv', encoding = 'latin')\n",
    "print(dataset.shape)\n",
    "print(dataset.info())"
   ]
  },
  {
   "cell_type": "code",
   "execution_count": 26,
   "id": "9c4d1b20-4fe6-4bfa-8253-0984d29509ff",
   "metadata": {},
   "outputs": [
    {
     "name": "stdout",
     "output_type": "stream",
     "text": [
      "6\n"
     ]
    }
   ],
   "source": [
    "print(dataset.duplicated().sum())"
   ]
  },
  {
   "cell_type": "code",
   "execution_count": 27,
   "id": "c8a5b01c-0923-4a29-a3d4-e5a6c2eeb636",
   "metadata": {},
   "outputs": [
    {
     "data": {
      "text/plain": [
       "Name           0\n",
       "Year         528\n",
       "Duration    8269\n",
       "Genre       1877\n",
       "Rating      7590\n",
       "Votes       7589\n",
       "Director     525\n",
       "Actor 1     1617\n",
       "Actor 2     2384\n",
       "Actor 3     3144\n",
       "dtype: int64"
      ]
     },
     "execution_count": 27,
     "metadata": {},
     "output_type": "execute_result"
    }
   ],
   "source": [
    "dataset.isnull().sum()"
   ]
  },
  {
   "cell_type": "code",
   "execution_count": 28,
   "id": "7621ec1f-1a21-4edc-b955-19e4e1079921",
   "metadata": {},
   "outputs": [
    {
     "data": {
      "text/plain": [
       "(15503, 10)"
      ]
     },
     "execution_count": 28,
     "metadata": {},
     "output_type": "execute_result"
    }
   ],
   "source": [
    "dataset.drop_duplicates().shape"
   ]
  },
  {
   "cell_type": "code",
   "execution_count": 29,
   "id": "60e41f9f-d58b-4549-9c6c-0643d7aebcb3",
   "metadata": {},
   "outputs": [],
   "source": [
    "dataset['Genre'] = dataset['Genre'].fillna(dataset['Genre'].mode()[0])\n"
   ]
  },
  {
   "cell_type": "code",
   "execution_count": 30,
   "id": "43092d04-f0cc-4322-a53f-02c53a6a7435",
   "metadata": {},
   "outputs": [],
   "source": [
    "dataset.dropna(subset=['Actor 1','Actor 2', 'Actor 3'], inplace = True)"
   ]
  },
  {
   "cell_type": "code",
   "execution_count": 31,
   "id": "a110a530-ad5a-40e2-83bc-1d0fee88a5ae",
   "metadata": {},
   "outputs": [
    {
     "data": {
      "text/html": [
       "<div>\n",
       "<style scoped>\n",
       "    .dataframe tbody tr th:only-of-type {\n",
       "        vertical-align: middle;\n",
       "    }\n",
       "\n",
       "    .dataframe tbody tr th {\n",
       "        vertical-align: top;\n",
       "    }\n",
       "\n",
       "    .dataframe thead th {\n",
       "        text-align: right;\n",
       "    }\n",
       "</style>\n",
       "<table border=\"1\" class=\"dataframe\">\n",
       "  <thead>\n",
       "    <tr style=\"text-align: right;\">\n",
       "      <th></th>\n",
       "      <th>Name</th>\n",
       "      <th>Year</th>\n",
       "      <th>Duration</th>\n",
       "      <th>Genre</th>\n",
       "      <th>Rating</th>\n",
       "      <th>Votes</th>\n",
       "      <th>Director</th>\n",
       "      <th>Actor 1</th>\n",
       "      <th>Actor 2</th>\n",
       "      <th>Actor 3</th>\n",
       "    </tr>\n",
       "  </thead>\n",
       "  <tbody>\n",
       "    <tr>\n",
       "      <th>0</th>\n",
       "      <td></td>\n",
       "      <td>5.815602</td>\n",
       "      <td>5.815602</td>\n",
       "      <td>Drama</td>\n",
       "      <td>5.815602</td>\n",
       "      <td>5.815602</td>\n",
       "      <td>J.S. Randhawa</td>\n",
       "      <td>Manmauji</td>\n",
       "      <td>Birbal</td>\n",
       "      <td>Rajendra Bhatia</td>\n",
       "    </tr>\n",
       "    <tr>\n",
       "      <th>1</th>\n",
       "      <td>#Gadhvi (He thought he was Gandhi)</td>\n",
       "      <td>(2019)</td>\n",
       "      <td>109 min</td>\n",
       "      <td>Drama</td>\n",
       "      <td>7.000000</td>\n",
       "      <td>8</td>\n",
       "      <td>Gaurav Bakshi</td>\n",
       "      <td>Rasika Dugal</td>\n",
       "      <td>Vivek Ghamande</td>\n",
       "      <td>Arvind Jangid</td>\n",
       "    </tr>\n",
       "    <tr>\n",
       "      <th>2</th>\n",
       "      <td>#Homecoming</td>\n",
       "      <td>(2021)</td>\n",
       "      <td>90 min</td>\n",
       "      <td>Drama, Musical</td>\n",
       "      <td>5.815602</td>\n",
       "      <td>5.815602</td>\n",
       "      <td>Soumyajit Majumdar</td>\n",
       "      <td>Sayani Gupta</td>\n",
       "      <td>Plabita Borthakur</td>\n",
       "      <td>Roy Angana</td>\n",
       "    </tr>\n",
       "    <tr>\n",
       "      <th>3</th>\n",
       "      <td>#Yaaram</td>\n",
       "      <td>(2019)</td>\n",
       "      <td>110 min</td>\n",
       "      <td>Comedy, Romance</td>\n",
       "      <td>4.400000</td>\n",
       "      <td>35</td>\n",
       "      <td>Ovais Khan</td>\n",
       "      <td>Prateik</td>\n",
       "      <td>Ishita Raj</td>\n",
       "      <td>Siddhant Kapoor</td>\n",
       "    </tr>\n",
       "    <tr>\n",
       "      <th>4</th>\n",
       "      <td>...And Once Again</td>\n",
       "      <td>(2010)</td>\n",
       "      <td>105 min</td>\n",
       "      <td>Drama</td>\n",
       "      <td>5.815602</td>\n",
       "      <td>5.815602</td>\n",
       "      <td>Amol Palekar</td>\n",
       "      <td>Rajat Kapoor</td>\n",
       "      <td>Rituparna Sengupta</td>\n",
       "      <td>Antara Mali</td>\n",
       "    </tr>\n",
       "  </tbody>\n",
       "</table>\n",
       "</div>"
      ],
      "text/plain": [
       "                                 Name      Year  Duration            Genre  \\\n",
       "0                                      5.815602  5.815602            Drama   \n",
       "1  #Gadhvi (He thought he was Gandhi)    (2019)   109 min            Drama   \n",
       "2                         #Homecoming    (2021)    90 min   Drama, Musical   \n",
       "3                             #Yaaram    (2019)   110 min  Comedy, Romance   \n",
       "4                   ...And Once Again    (2010)   105 min            Drama   \n",
       "\n",
       "     Rating     Votes            Director       Actor 1             Actor 2  \\\n",
       "0  5.815602  5.815602       J.S. Randhawa      Manmauji              Birbal   \n",
       "1  7.000000         8       Gaurav Bakshi  Rasika Dugal      Vivek Ghamande   \n",
       "2  5.815602  5.815602  Soumyajit Majumdar  Sayani Gupta   Plabita Borthakur   \n",
       "3  4.400000        35          Ovais Khan       Prateik          Ishita Raj   \n",
       "4  5.815602  5.815602        Amol Palekar  Rajat Kapoor  Rituparna Sengupta   \n",
       "\n",
       "           Actor 3  \n",
       "0  Rajendra Bhatia  \n",
       "1    Arvind Jangid  \n",
       "2       Roy Angana  \n",
       "3  Siddhant Kapoor  \n",
       "4      Antara Mali  "
      ]
     },
     "execution_count": 31,
     "metadata": {},
     "output_type": "execute_result"
    }
   ],
   "source": [
    "dataset = dataset.fillna(dataset['Rating'].mean())\n",
    "dataset.head()"
   ]
  },
  {
   "cell_type": "code",
   "execution_count": 44,
   "id": "a1bcd39b-7fe7-48f7-88e8-ed57d6ae2b8e",
   "metadata": {},
   "outputs": [
    {
     "name": "stdout",
     "output_type": "stream",
     "text": [
      "Name        0\n",
      "Year        0\n",
      "Duration    0\n",
      "Genre       0\n",
      "Rating      0\n",
      "Votes       0\n",
      "Director    0\n",
      "Actor 1     0\n",
      "Actor 2     0\n",
      "Actor 3     0\n",
      "Actor       0\n",
      "dtype: int64\n"
     ]
    }
   ],
   "source": [
    "dataset['Actor'] = dataset['Actor 1'] +', ' + dataset['Actor 2'] + ', ' + dataset['Actor 3']\n",
    "dataset.drop(columns = ['Actor 1','Actor 2', 'Actor 3'])\n",
    "print(dataset.isnull().sum())"
   ]
  },
  {
   "cell_type": "code",
   "execution_count": 33,
   "id": "2ddb41af-c0cb-417b-ad80-f6d60a5c6342",
   "metadata": {},
   "outputs": [],
   "source": [
    "x = dataset[['Name','Genre','Director','Actor']]\n",
    "y = dataset['Rating']"
   ]
  },
  {
   "cell_type": "markdown",
   "id": "478b704a-2119-4d96-bc9e-1b1584def27e",
   "metadata": {},
   "source": [
    "ENCODING AND SPLIT THE DATA"
   ]
  },
  {
   "cell_type": "code",
   "execution_count": 34,
   "id": "d306a991-b30a-42fe-aeca-dd7f98374b69",
   "metadata": {},
   "outputs": [
    {
     "name": "stdout",
     "output_type": "stream",
     "text": [
      "(9892, 4)\n",
      "(2473, 4)\n"
     ]
    }
   ],
   "source": [
    "from sklearn.preprocessing import LabelEncoder\n",
    "lbg = LabelEncoder()\n",
    "lba = LabelEncoder()\n",
    "lbd = LabelEncoder()\n",
    "x.loc[:,'Genre'] = lbg.fit_transform(x['Genre'])\n",
    "x.loc[:,'Actor'] = lba.fit_transform(x['Actor'])\n",
    "x.loc[:,'Director'] = lbd.fit_transform(x['Director'])\n",
    "x.loc[:,'Name'] = lbd.fit_transform(x['Name'])\n",
    "\n",
    "from sklearn.model_selection import train_test_split\n",
    "x_train, x_test, y_train, y_test = train_test_split(x, y, test_size = 0.2, random_state = 22)\n",
    "print(x_train.shape)\n",
    "print(x_test.shape)"
   ]
  },
  {
   "cell_type": "code",
   "execution_count": 35,
   "id": "e973dd7f-18d5-4434-b69a-a6267f997b95",
   "metadata": {},
   "outputs": [
    {
     "name": "stdout",
     "output_type": "stream",
     "text": [
      "[[-0.96836535 -0.37370956 -1.46706392 -1.43286119]\n",
      " [ 1.26683643 -1.65830295  1.61006561  0.72786939]\n",
      " [ 1.17614066 -1.65830295  0.86857992  1.42065275]\n",
      " ...\n",
      " [-1.57413877  0.77061214 -0.8259351  -0.88347048]\n",
      " [-1.14511375 -1.51803126 -1.40136265 -1.54869996]\n",
      " [-0.14776988  0.82229119 -1.71470714 -0.3495437 ]]\n"
     ]
    }
   ],
   "source": [
    "from sklearn.preprocessing import StandardScaler\n",
    "sc = StandardScaler()\n",
    "x_train = sc.fit_transform(x_train)\n",
    "x_test = sc.fit_transform(x_test)\n",
    "\n",
    "\n",
    "print(x_test)"
   ]
  },
  {
   "cell_type": "code",
   "execution_count": 36,
   "id": "d225c74a-adb0-4e7e-b1e6-c5bf352bc56d",
   "metadata": {},
   "outputs": [
    {
     "name": "stdout",
     "output_type": "stream",
     "text": [
      "['Genre', 'Director', 'Actor']\n"
     ]
    },
    {
     "data": {
      "text/plain": [
       "<Axes: >"
      ]
     },
     "execution_count": 36,
     "metadata": {},
     "output_type": "execute_result"
    },
    {
     "data": {
      "image/png": "[encoded data removed]",
      "text/plain": [
       "<Figure size 640x480 with 2 Axes>"
      ]
     },
     "metadata": {},
     "output_type": "display_data"
    }
   ],
   "source": [
    "corr = x.corr()\n",
    "x = dataset[['Genre', 'Director', 'Actor']]\n",
    "print(x.columns.tolist())\n",
    "sns.heatmap(corr, annot = True, xticklabels=x.columns, yticklabels=x.columns)"
   ]
  },
  {
   "cell_type": "code",
   "execution_count": 37,
   "id": "3eb5cb1d-b5ce-44bd-bb4b-c4f311d519aa",
   "metadata": {},
   "outputs": [
    {
     "data": {
      "text/html": [
       "<div>\n",
       "<style scoped>\n",
       "    .dataframe tbody tr th:only-of-type {\n",
       "        vertical-align: middle;\n",
       "    }\n",
       "\n",
       "    .dataframe tbody tr th {\n",
       "        vertical-align: top;\n",
       "    }\n",
       "\n",
       "    .dataframe thead th {\n",
       "        text-align: right;\n",
       "    }\n",
       "</style>\n",
       "<table border=\"1\" class=\"dataframe\">\n",
       "  <thead>\n",
       "    <tr style=\"text-align: right;\">\n",
       "      <th></th>\n",
       "      <th>0</th>\n",
       "      <th>1</th>\n",
       "      <th>2</th>\n",
       "      <th>3</th>\n",
       "    </tr>\n",
       "  </thead>\n",
       "  <tbody>\n",
       "    <tr>\n",
       "      <th>0</th>\n",
       "      <td>-1.387701</td>\n",
       "      <td>-1.419475</td>\n",
       "      <td>-0.584852</td>\n",
       "      <td>1.404688</td>\n",
       "    </tr>\n",
       "    <tr>\n",
       "      <th>1</th>\n",
       "      <td>-1.540991</td>\n",
       "      <td>-0.352081</td>\n",
       "      <td>-1.252753</td>\n",
       "      <td>-0.244538</td>\n",
       "    </tr>\n",
       "    <tr>\n",
       "      <th>2</th>\n",
       "      <td>1.606421</td>\n",
       "      <td>1.458807</td>\n",
       "      <td>1.462109</td>\n",
       "      <td>0.600278</td>\n",
       "    </tr>\n",
       "    <tr>\n",
       "      <th>3</th>\n",
       "      <td>0.427577</td>\n",
       "      <td>0.391414</td>\n",
       "      <td>0.606520</td>\n",
       "      <td>0.670560</td>\n",
       "    </tr>\n",
       "    <tr>\n",
       "      <th>4</th>\n",
       "      <td>1.090386</td>\n",
       "      <td>-1.029324</td>\n",
       "      <td>0.025864</td>\n",
       "      <td>0.241750</td>\n",
       "    </tr>\n",
       "    <tr>\n",
       "      <th>...</th>\n",
       "      <td>...</td>\n",
       "      <td>...</td>\n",
       "      <td>...</td>\n",
       "      <td>...</td>\n",
       "    </tr>\n",
       "    <tr>\n",
       "      <th>9887</th>\n",
       "      <td>0.125962</td>\n",
       "      <td>0.391414</td>\n",
       "      <td>0.525140</td>\n",
       "      <td>1.482369</td>\n",
       "    </tr>\n",
       "    <tr>\n",
       "      <th>9888</th>\n",
       "      <td>-0.200168</td>\n",
       "      <td>1.525059</td>\n",
       "      <td>0.414434</td>\n",
       "      <td>-0.082916</td>\n",
       "    </tr>\n",
       "    <tr>\n",
       "      <th>9889</th>\n",
       "      <td>0.661546</td>\n",
       "      <td>0.391414</td>\n",
       "      <td>0.389507</td>\n",
       "      <td>0.249433</td>\n",
       "    </tr>\n",
       "    <tr>\n",
       "      <th>9890</th>\n",
       "      <td>0.022010</td>\n",
       "      <td>-1.419475</td>\n",
       "      <td>0.925441</td>\n",
       "      <td>1.328430</td>\n",
       "    </tr>\n",
       "    <tr>\n",
       "      <th>9891</th>\n",
       "      <td>1.375555</td>\n",
       "      <td>0.936152</td>\n",
       "      <td>0.259006</td>\n",
       "      <td>0.367235</td>\n",
       "    </tr>\n",
       "  </tbody>\n",
       "</table>\n",
       "<p>9892 rows × 4 columns</p>\n",
       "</div>"
      ],
      "text/plain": [
       "             0         1         2         3\n",
       "0    -1.387701 -1.419475 -0.584852  1.404688\n",
       "1    -1.540991 -0.352081 -1.252753 -0.244538\n",
       "2     1.606421  1.458807  1.462109  0.600278\n",
       "3     0.427577  0.391414  0.606520  0.670560\n",
       "4     1.090386 -1.029324  0.025864  0.241750\n",
       "...        ...       ...       ...       ...\n",
       "9887  0.125962  0.391414  0.525140  1.482369\n",
       "9888 -0.200168  1.525059  0.414434 -0.082916\n",
       "9889  0.661546  0.391414  0.389507  0.249433\n",
       "9890  0.022010 -1.419475  0.925441  1.328430\n",
       "9891  1.375555  0.936152  0.259006  0.367235\n",
       "\n",
       "[9892 rows x 4 columns]"
      ]
     },
     "execution_count": 37,
     "metadata": {},
     "output_type": "execute_result"
    }
   ],
   "source": [
    "x = dataset[['Genre', 'Director', 'Actor']]\n",
    "x_train = pd.DataFrame(x_train)\n",
    "x_train"
   ]
  },
  {
   "cell_type": "code",
   "execution_count": 38,
   "id": "1e47d2f7-3abe-482c-8729-9ae6551ee44c",
   "metadata": {},
   "outputs": [
    {
     "data": {
      "text/plain": [
       "3281     3.900000\n",
       "13408    5.900000\n",
       "12988    5.815602\n",
       "10965    5.900000\n",
       "3553     6.500000\n",
       "Name: Rating, dtype: float64"
      ]
     },
     "execution_count": 38,
     "metadata": {},
     "output_type": "execute_result"
    }
   ],
   "source": [
    "x_test = pd.DataFrame(x_test)\n",
    "y_test.head()"
   ]
  },
  {
   "cell_type": "markdown",
   "id": "31166aa3-1d0b-4509-a0e1-976c89e72276",
   "metadata": {},
   "source": [
    "BUILD THE MODELS"
   ]
  },
  {
   "cell_type": "code",
   "execution_count": 39,
   "id": "78bdf095-2011-4422-96b8-3ff8928c39a4",
   "metadata": {},
   "outputs": [],
   "source": [
    "from sklearn.svm import SVR\n",
    "from sklearn.ensemble import RandomForestRegressor\n",
    "from sklearn.linear_model import LinearRegression\n",
    "from sklearn.neighbors import KNeighborsRegressor\n",
    "from sklearn.metrics import mean_squared_error, r2_score"
   ]
  },
  {
   "cell_type": "code",
   "execution_count": 40,
   "id": "5174c852-6b48-4afe-97d2-4f8800819ffe",
   "metadata": {},
   "outputs": [
    {
     "data": {
      "text/html": [
       "<div>\n",
       "<style scoped>\n",
       "    .dataframe tbody tr th:only-of-type {\n",
       "        vertical-align: middle;\n",
       "    }\n",
       "\n",
       "    .dataframe tbody tr th {\n",
       "        vertical-align: top;\n",
       "    }\n",
       "\n",
       "    .dataframe thead th {\n",
       "        text-align: right;\n",
       "    }\n",
       "</style>\n",
       "<table border=\"1\" class=\"dataframe\">\n",
       "  <thead>\n",
       "    <tr style=\"text-align: right;\">\n",
       "      <th></th>\n",
       "      <th>Model</th>\n",
       "      <th>r2</th>\n",
       "      <th>mse</th>\n",
       "    </tr>\n",
       "  </thead>\n",
       "  <tbody>\n",
       "    <tr>\n",
       "      <th>0</th>\n",
       "      <td>svr</td>\n",
       "      <td>0.029988</td>\n",
       "      <td>1.143537</td>\n",
       "    </tr>\n",
       "    <tr>\n",
       "      <th>1</th>\n",
       "      <td>rfr</td>\n",
       "      <td>-0.211508</td>\n",
       "      <td>1.428234</td>\n",
       "    </tr>\n",
       "    <tr>\n",
       "      <th>2</th>\n",
       "      <td>lr</td>\n",
       "      <td>0.011693</td>\n",
       "      <td>1.165104</td>\n",
       "    </tr>\n",
       "    <tr>\n",
       "      <th>3</th>\n",
       "      <td>knr</td>\n",
       "      <td>-0.121696</td>\n",
       "      <td>1.322355</td>\n",
       "    </tr>\n",
       "  </tbody>\n",
       "</table>\n",
       "</div>"
      ],
      "text/plain": [
       "  Model        r2       mse\n",
       "0   svr  0.029988  1.143537\n",
       "1   rfr -0.211508  1.428234\n",
       "2    lr  0.011693  1.165104\n",
       "3   knr -0.121696  1.322355"
      ]
     },
     "execution_count": 40,
     "metadata": {},
     "output_type": "execute_result"
    }
   ],
   "source": [
    "models = {\n",
    "    'svr':SVR(),\n",
    "    'rfr':RandomForestRegressor(),\n",
    "    'lr':LinearRegression(),\n",
    "    'knr':KNeighborsRegressor()}\n",
    "\n",
    "outcome = []\n",
    "\n",
    "for name,i in models.items():\n",
    "    i.fit(x_train, y_train)\n",
    "    y_pred = i.predict(x_test)\n",
    "    r2 = r2_score(y_test,y_pred)\n",
    "    mse = mean_squared_error(y_test,y_pred)\n",
    "    outcome.append({'Model': name,'r2':r2, 'mse':mse})\n",
    "\n",
    "outcomes = pd.DataFrame(outcome)   \n",
    "outcomes"
   ]
  },
  {
   "cell_type": "code",
   "execution_count": 41,
   "id": "f9f3bfa9-f1a2-44d0-829b-c5df4068e8f5",
   "metadata": {},
   "outputs": [
    {
     "data": {
      "text/plain": [
       "<BarContainer object of 4 artists>"
      ]
     },
     "execution_count": 41,
     "metadata": {},
     "output_type": "execute_result"
    },
    {
     "data": {
      "image/png": "[encoded data removed]",
      "text/plain": [
       "<Figure size 640x480 with 1 Axes>"
      ]
     },
     "metadata": {},
     "output_type": "display_data"
    }
   ],
   "source": [
    "model = outcomes['Model']\n",
    "r2 = outcomes['r2']\n",
    "mse = outcomes['mse']\n",
    "\n",
    "plt.bar(model,r2,alpha=0.75,label = 'R2_score',color = 'green')"
   ]
  },
  {
   "cell_type": "code",
   "execution_count": 42,
   "id": "ed4de602-0bd6-4de6-8891-f3c1de8ce5f8",
   "metadata": {},
   "outputs": [
    {
     "name": "stdout",
     "output_type": "stream",
     "text": [
      "[5.9114462]\n",
      "5.815602464927232\n"
     ]
    }
   ],
   "source": [
    "from sklearn.preprocessing import StandardScaler\n",
    "ssc = StandardScaler()\n",
    "\n",
    "x_train_sc = ssc.fit_transform(x_train)\n",
    "x_test_sc = ssc.fit_transform(x_test)\n",
    "sv = SVR()\n",
    "sv.fit(x_train_sc,y_train)\n",
    "y_pred = sv.predict(x_test_sc)\n",
    "\n",
    "features = [[1.606421 ,1.458807 ,1.462109 ,0.600278]]\n",
    "print(sv.predict(features))\n",
    "print(y_train.iloc[1])"
   ]
  },
  {
   "cell_type": "code",
   "execution_count": 47,
   "id": "7eaa31a7-5767-4dd0-8046-44416159821e",
   "metadata": {},
   "outputs": [
    {
     "name": "stdout",
     "output_type": "stream",
     "text": [
      "0.0298256916410774\n",
      "3281     3.900000\n",
      "13408    5.900000\n",
      "12988    5.815602\n",
      "10965    5.900000\n",
      "3553     6.500000\n",
      "           ...   \n",
      "14317    5.900000\n",
      "6205     5.500000\n",
      "591      6.500000\n",
      "2538     5.100000\n",
      "6953     6.100000\n",
      "Name: Rating, Length: 2473, dtype: float64 [6.04389335 5.59356513 5.54406738 ... 6.07986708 5.63380376 5.94815838]\n",
      "[5.8459518]\n"
     ]
    }
   ],
   "source": [
    "from sklearn.ensemble import VotingRegressor\n",
    "\n",
    "vr = VotingRegressor(estimators=[\n",
    "    ('svr', SVR(C=1, epsilon=0.1)),\n",
    "    ('rfr', RandomForestRegressor(n_estimators=200)),\n",
    "    ('lr', LinearRegression())\n",
    "])\n",
    "vr.fit(x_train_sc, y_train)\n",
    "y_pred = vr.predict(x_test_sc)\n",
    "print(r2_score(y_test,y_pred))\n",
    "print(y_test,y_pred)\n",
    "print( vr.predict([[1.606421 \t,1.458807 \t,1.462109 \t,0.600278]]))"
   ]
  },
  {
   "cell_type": "code",
   "execution_count": null,
   "id": "5d552d25-2c2b-4cbb-a66f-c23d16a432a7",
   "metadata": {},
   "outputs": [],
   "source": []
  },
  {
   "cell_type": "code",
   "execution_count": null,
   "id": "5e4568bb-e148-44e7-8668-e7f2c3899622",
   "metadata": {},
   "outputs": [],
   "source": []
  }
 ],
 "metadata": {
  "kernelspec": {
   "display_name": "Python 3 (ipykernel)",
   "language": "python",
   "name": "python3"
  },
  "language_info": {
   "codemirror_mode": {
    "name": "ipython",
    "version": 3
   },
   "file_extension": ".py",
   "mimetype": "text/x-python",
   "name": "python",
   "nbconvert_exporter": "python",
   "pygments_lexer": "ipython3",
   "version": "3.11.7"
  }
 },
 "nbformat": 4,
 "nbformat_minor": 5
}
